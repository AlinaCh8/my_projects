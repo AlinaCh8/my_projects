{
  "nbformat": 4,
  "nbformat_minor": 0,
  "metadata": {
    "colab": {
      "name": "Копия блокнота \"SF_mod_2_mnist_2 .ipynb\"",
      "provenance": [],
      "collapsed_sections": []
    },
    "kernelspec": {
      "name": "python3",
      "display_name": "Python 3"
    },
    "accelerator": "GPU"
  },
  "cells": [
    {
      "cell_type": "markdown",
      "metadata": {
        "id": "frHiDRbv-JnK"
      },
      "source": [
        "Для воспроизводимости кода установим определенную версию tensorflow и keras"
      ]
    },
    {
      "cell_type": "code",
      "metadata": {
        "id": "sfrrvxH_-Gdg",
        "colab": {
          "base_uri": "https://localhost:8080/"
        },
        "outputId": "42ba6e03-41d3-4708-caab-81f8ca82df24"
      },
      "source": [
        "!pip install -q tensorflow==2.1"
      ],
      "execution_count": null,
      "outputs": [
        {
          "output_type": "stream",
          "text": [
            "\u001b[K     |████████████████████████████████| 421.8MB 36kB/s \n",
            "\u001b[K     |████████████████████████████████| 3.9MB 59.8MB/s \n",
            "\u001b[K     |████████████████████████████████| 450kB 50.5MB/s \n",
            "\u001b[K     |████████████████████████████████| 51kB 9.0MB/s \n",
            "\u001b[?25h  Building wheel for gast (setup.py) ... \u001b[?25l\u001b[?25hdone\n",
            "\u001b[31mERROR: tensorflow-probability 0.12.1 has requirement gast>=0.3.2, but you'll have gast 0.2.2 which is incompatible.\u001b[0m\n"
          ],
          "name": "stdout"
        }
      ]
    },
    {
      "cell_type": "code",
      "metadata": {
        "id": "NPDfQS-kNO1v"
      },
      "source": [
        "import tensorflow as tf\n",
        "from tensorflow import keras\n",
        "from tensorflow.keras.layers import Dense\n",
        "from tensorflow.keras.models import Sequential\n",
        "from tensorflow.keras.backend import clear_session\n",
        "import numpy as np\n",
        "import pandas as pd\n",
        "import sklearn\n",
        "from sklearn.metrics import accuracy_score\n",
        "import matplotlib.pyplot as plt"
      ],
      "execution_count": null,
      "outputs": []
    },
    {
      "cell_type": "code",
      "metadata": {
        "id": "B4QHV0JB9r9D",
        "colab": {
          "base_uri": "https://localhost:8080/"
        },
        "outputId": "7922c871-ea2b-4a5f-d39d-11f9916ad519"
      },
      "source": [
        "print(\"We're using TF\", tf.__version__)\n",
        "print(\"We are using Keras\", keras.__version__)"
      ],
      "execution_count": null,
      "outputs": [
        {
          "output_type": "stream",
          "text": [
            "We're using TF 2.1.0\n",
            "We are using Keras 2.2.4-tf\n"
          ],
          "name": "stdout"
        }
      ]
    },
    {
      "cell_type": "code",
      "metadata": {
        "id": "Xfoji_vbLUiA",
        "colab": {
          "base_uri": "https://localhost:8080/",
          "height": 35
        },
        "outputId": "5f496d80-1697-45e3-9d45-4e2ac611f944"
      },
      "source": [
        "# Проверяем что у нас работает GPU\n",
        "tf.test.gpu_device_name()"
      ],
      "execution_count": null,
      "outputs": [
        {
          "output_type": "execute_result",
          "data": {
            "application/vnd.google.colaboratory.intrinsic+json": {
              "type": "string"
            },
            "text/plain": [
              "'/device:GPU:0'"
            ]
          },
          "metadata": {
            "tags": []
          },
          "execution_count": 5
        }
      ]
    },
    {
      "cell_type": "code",
      "metadata": {
        "id": "5oglA59FL0wA",
        "colab": {
          "base_uri": "https://localhost:8080/"
        },
        "outputId": "6e67c532-8cf6-4a29-bc60-de184e3e1cb7"
      },
      "source": [
        "#GPU count and name\n",
        "!nvidia-smi -L"
      ],
      "execution_count": null,
      "outputs": [
        {
          "output_type": "stream",
          "text": [
            "GPU 0: Tesla T4 (UUID: GPU-b4609bd1-0ecc-06b1-b454-6bd0bd6f4877)\n"
          ],
          "name": "stdout"
        }
      ]
    },
    {
      "cell_type": "code",
      "metadata": {
        "id": "rYt8uY3aOaFT",
        "colab": {
          "base_uri": "https://localhost:8080/"
        },
        "outputId": "c554813d-fd2b-41db-c151-c83b2886055e"
      },
      "source": [
        "#use this command to see GPU activity while doing Deep Learning tasks, for this command 'nvidia-smi' and for above one to work, go to 'Runtime > change runtime type > Hardware Accelerator > GPU'\n",
        "!nvidia-smi"
      ],
      "execution_count": null,
      "outputs": [
        {
          "output_type": "stream",
          "text": [
            "Mon Jan 18 09:36:46 2021       \n",
            "+-----------------------------------------------------------------------------+\n",
            "| NVIDIA-SMI 460.27.04    Driver Version: 418.67       CUDA Version: 10.1     |\n",
            "|-------------------------------+----------------------+----------------------+\n",
            "| GPU  Name        Persistence-M| Bus-Id        Disp.A | Volatile Uncorr. ECC |\n",
            "| Fan  Temp  Perf  Pwr:Usage/Cap|         Memory-Usage | GPU-Util  Compute M. |\n",
            "|                               |                      |               MIG M. |\n",
            "|===============================+======================+======================|\n",
            "|   0  Tesla T4            Off  | 00000000:00:04.0 Off |                    0 |\n",
            "| N/A   44C    P0    28W /  70W |    111MiB / 15079MiB |      0%      Default |\n",
            "|                               |                      |                 ERR! |\n",
            "+-------------------------------+----------------------+----------------------+\n",
            "                                                                               \n",
            "+-----------------------------------------------------------------------------+\n",
            "| Processes:                                                                  |\n",
            "|  GPU   GI   CI        PID   Type   Process name                  GPU Memory |\n",
            "|        ID   ID                                                   Usage      |\n",
            "|=============================================================================|\n",
            "|  No running processes found                                                 |\n",
            "+-----------------------------------------------------------------------------+\n"
          ],
          "name": "stdout"
        }
      ]
    },
    {
      "cell_type": "markdown",
      "metadata": {
        "id": "aM4jVTyFDFqx"
      },
      "source": [
        "# MNIST"
      ]
    },
    {
      "cell_type": "code",
      "metadata": {
        "id": "5ynJ91PONjLN",
        "colab": {
          "base_uri": "https://localhost:8080/"
        },
        "outputId": "c120a6b9-dfa0-4b25-f848-ced5c3876d6f"
      },
      "source": [
        "# скачиваем данные\n",
        "(x_train, y_train), (x_val, y_val) = tf.keras.datasets.mnist.load_data()"
      ],
      "execution_count": null,
      "outputs": [
        {
          "output_type": "stream",
          "text": [
            "Downloading data from https://storage.googleapis.com/tensorflow/tf-keras-datasets/mnist.npz\n",
            "11493376/11490434 [==============================] - 0s 0us/step\n"
          ],
          "name": "stdout"
        }
      ]
    },
    {
      "cell_type": "code",
      "metadata": {
        "id": "gFOePELMN8KM",
        "colab": {
          "base_uri": "https://localhost:8080/"
        },
        "outputId": "2fe6bcee-3526-432b-a4a8-cd21fa89f354"
      },
      "source": [
        "# что за данные\n",
        "print(x_train.shape)\n",
        "print(x_val.shape)\n",
        "print (y_train[:10])\n",
        "print (y_val[:10])"
      ],
      "execution_count": null,
      "outputs": [
        {
          "output_type": "stream",
          "text": [
            "(60000, 28, 28)\n",
            "(10000, 28, 28)\n",
            "[5 0 4 1 9 2 1 3 1 4]\n",
            "[7 2 1 0 4 1 4 9 5 9]\n"
          ],
          "name": "stdout"
        }
      ]
    },
    {
      "cell_type": "code",
      "metadata": {
        "id": "S_1_CbatN_Kt",
        "colab": {
          "base_uri": "https://localhost:8080/",
          "height": 581
        },
        "outputId": "07d193bd-739b-429e-dcc3-16afb032736a"
      },
      "source": [
        "# нарисуем картинку\n",
        "x_train_image = np.tile(x_train[5, :, :].reshape((28, 28))[:, :, np.newaxis], (1, 1, 3))\n",
        "print(\"Пример кусочка картинки (пиксели со значениями от 0 до 255):\")\n",
        "plt.imshow(x_train_image[15:20, 5:10], cmap=\"Greys\")\n",
        "plt.show()\n",
        "print(\"Пример картинки:\")\n",
        "plt.imshow(x_train_image, cmap=\"Greys\")\n",
        "plt.show()\n",
        "print(\"y_train [shape %s] 10 примеров:\\n\" % (str(y_train.shape)), y_train[:10])"
      ],
      "execution_count": null,
      "outputs": [
        {
          "output_type": "stream",
          "text": [
            "Пример кусочка картинки (пиксели со значениями от 0 до 255):\n"
          ],
          "name": "stdout"
        },
        {
          "output_type": "display_data",
          "data": {
            "image/png": "[encoded data removed]",
            "text/plain": [
              "<Figure size 432x288 with 1 Axes>"
            ]
          },
          "metadata": {
            "tags": [],
            "needs_background": "light"
          }
        },
        {
          "output_type": "stream",
          "text": [
            "Пример картинки:\n"
          ],
          "name": "stdout"
        },
        {
          "output_type": "display_data",
          "data": {
            "image/png": "[encoded data removed]",
            "text/plain": [
              "<Figure size 432x288 with 1 Axes>"
            ]
          },
          "metadata": {
            "tags": [],
            "needs_background": "light"
          }
        },
        {
          "output_type": "stream",
          "text": [
            "y_train [shape (60000,)] 10 примеров:\n",
            " [5 0 4 1 9 2 1 3 1 4]\n"
          ],
          "name": "stdout"
        }
      ]
    },
    {
      "cell_type": "code",
      "metadata": {
        "id": "N8lbRW0WBPvh",
        "colab": {
          "base_uri": "https://localhost:8080/",
          "height": 589
        },
        "outputId": "28be3d2d-46a7-4d03-8200-a78936f073b9"
      },
      "source": [
        "# Посмотрим побольше примеров\n",
        "plt.figure(figsize=(10,10))\n",
        "for i in range(25):\n",
        "    plt.subplot(5,5,i+1)\n",
        "    plt.xticks([])\n",
        "    plt.yticks([])\n",
        "    plt.grid(False)\n",
        "    plt.imshow(x_train[i], cmap=\"Greys\")\n",
        "    plt.xlabel(y_train[i])\n",
        "plt.show()"
      ],
      "execution_count": null,
      "outputs": [
        {
          "output_type": "display_data",
          "data": {
            "image/png": "[encoded data removed]",
            "text/plain": [
              "<Figure size 720x720 with 25 Axes>"
            ]
          },
          "metadata": {
            "tags": []
          }
        }
      ]
    },
    {
      "cell_type": "markdown",
      "metadata": {
        "id": "Zs9l8YcDCn77"
      },
      "source": [
        "# Data"
      ]
    },
    {
      "cell_type": "code",
      "metadata": {
        "id": "Gy5rjeOE1RGk",
        "colab": {
          "base_uri": "https://localhost:8080/"
        },
        "outputId": "cfaad284-5704-42dd-d92d-3c20b4925e3a"
      },
      "source": [
        "# вытянем картинку в вектор размера 28*28=784 и будем использовать это как фичи!\n",
        "\n",
        "x_train_flat = x_train.reshape(-1, 28*28).astype(float)\n",
        "print(x_train.shape, x_train_flat.shape)\n",
        "\n",
        "x_val_flat = x_val.reshape(-1, 28*28).astype(float)\n",
        "print(x_val.shape, x_val_flat.shape)"
      ],
      "execution_count": null,
      "outputs": [
        {
          "output_type": "stream",
          "text": [
            "(60000, 28, 28) (60000, 784)\n",
            "(10000, 28, 28) (10000, 784)\n"
          ],
          "name": "stdout"
        }
      ]
    },
    {
      "cell_type": "code",
      "metadata": {
        "id": "eiiClrqZC1ev"
      },
      "source": [
        "# центрируем и нормируем, так сети будет проще учиться\n",
        "x_train_float = x_train_flat.astype(np.float) / 255 - 0.5\n",
        "x_val_float = x_val_flat.astype(np.float) / 255 - 0.5\n",
        "\n",
        "# по сути, это действия аналогичны нормализации через StandardScaler\n",
        "# from sklearn.preprocessing import StandardScaler\n",
        "# scaler = StandardScaler()\n",
        "# x_train_flat = scaler.fit_transform(x_train_flat)\n",
        "# x_val_flat = scaler.transform(x_val_flat)\n",
        "\n",
        "# Но попробуйте пропустить нормирование и посмотрите что будет ;)\n",
        "# x_train_float = x_train_flat.astype(np.float)\n",
        "# x_val_float = x_val_flat.astype(np.float)"
      ],
      "execution_count": null,
      "outputs": []
    },
    {
      "cell_type": "code",
      "metadata": {
        "id": "lLz736fXE1mN",
        "colab": {
          "base_uri": "https://localhost:8080/"
        },
        "outputId": "e2827933-dc44-4d02-8078-3f746115dd52"
      },
      "source": [
        "# one-hot encode для ответов\n",
        "y_train_oh = keras.utils.to_categorical(y_train, 10)\n",
        "y_val_oh = keras.utils.to_categorical(y_val, 10)\n",
        "\n",
        "print(y_train_oh.shape)\n",
        "print(y_train_oh[:5], y_train[:5])"
      ],
      "execution_count": null,
      "outputs": [
        {
          "output_type": "stream",
          "text": [
            "(60000, 10)\n",
            "[[0. 0. 0. 0. 0. 1. 0. 0. 0. 0.]\n",
            " [1. 0. 0. 0. 0. 0. 0. 0. 0. 0.]\n",
            " [0. 0. 0. 0. 1. 0. 0. 0. 0. 0.]\n",
            " [0. 1. 0. 0. 0. 0. 0. 0. 0. 0.]\n",
            " [0. 0. 0. 0. 0. 0. 0. 0. 0. 1.]] [5 0 4 1 9]\n"
          ],
          "name": "stdout"
        }
      ]
    },
    {
      "cell_type": "markdown",
      "metadata": {
        "id": "n8jUd6IORgQh"
      },
      "source": [
        "# Собираем модель\n",
        "\n",
        "Построим простой Multi layer Perceptron (MLP) классификатор в Keras (по аналогии со знакомым нам уже MLPClassifier из sklearn)\n",
        "\n",
        "<img src=\"https://cdn-images-1.medium.com/max/1600/1*Gh5PS4R_A5drl5ebd_gNrg@2x.png\" width=\"500\">\n"
      ]
    },
    {
      "cell_type": "markdown",
      "metadata": {
        "id": "cSdaCoTkUCxH"
      },
      "source": [
        "Сначала надо будет посчитать логиты (logit, линейное преобразование) $z_k$ для каждого класса: $$z_k = \\vec{x} \\cdot \\vec{w_k} + b_k \\quad k = 0..9$$\n",
        "\n",
        "А затем превратить логиты $z_k$ в вероятности $p_k$ при помощи функции softmax: $$p_k = \\frac{e^{z_k}}{\\sum_{i=0}^{9}{e^{z_i}}} \\quad k = 0..9$$\n",
        "\n",
        "Мы будем использовать cross-entropy для минимизации ошибки: $$\\text{cross-entropy}(y, p) = -\\sum_{k=0}^{9}{\\log(p_k)[y = k]}$$\n",
        "\n",
        "где $$ [x]=\\begin{cases} 1, \\quad \\text{если $x$ истина} \\\\ 0, \\quad \\text{иначе} \\end{cases} $$\n",
        "\n",
        "Минимизация cross-entropy двигает $p_k$ в сторону 1 когда $y = k$, что как раз мы и хотим.\n"
      ]
    },
    {
      "cell_type": "code",
      "metadata": {
        "id": "EaI0ev6BOI2r"
      },
      "source": [
        "clear_session()"
      ],
      "execution_count": null,
      "outputs": []
    },
    {
      "cell_type": "code",
      "metadata": {
        "id": "yrIcMsFlHp4U"
      },
      "source": [
        "# Архитектура сети\n",
        "model = Sequential()\n",
        "model.add(Dense(256, activation='relu', input_shape=(x_train_float.shape[1],))) # первый скрытый слой\n",
        "model.add(Dense(128, activation='relu',)) # второй скрытый слой\n",
        "model.add(Dense(10, activation='softmax',)) # выходной слой"
      ],
      "execution_count": null,
      "outputs": []
    },
    {
      "cell_type": "code",
      "metadata": {
        "id": "dumFu1lQHpm_",
        "colab": {
          "base_uri": "https://localhost:8080/"
        },
        "outputId": "4a342798-6625-4e33-f9a2-7d683460c54a"
      },
      "source": [
        "model.summary()"
      ],
      "execution_count": null,
      "outputs": [
        {
          "output_type": "stream",
          "text": [
            "Model: \"sequential\"\n",
            "_________________________________________________________________\n",
            "Layer (type)                 Output Shape              Param #   \n",
            "=================================================================\n",
            "dense (Dense)                (None, 256)               200960    \n",
            "_________________________________________________________________\n",
            "dense_1 (Dense)              (None, 128)               32896     \n",
            "_________________________________________________________________\n",
            "dense_2 (Dense)              (None, 10)                1290      \n",
            "=================================================================\n",
            "Total params: 235,146\n",
            "Trainable params: 235,146\n",
            "Non-trainable params: 0\n",
            "_________________________________________________________________\n"
          ],
          "name": "stdout"
        }
      ]
    },
    {
      "cell_type": "code",
      "metadata": {
        "id": "UNi21kLiJCys"
      },
      "source": [
        "model.compile(\n",
        "    loss='categorical_crossentropy',  # минимизируем кросс-энтропию\n",
        "    optimizer='adam',  # так будет быстрее, позже узнаем что это :)\n",
        "    metrics=['accuracy']  # выводим процент правильных ответов\n",
        ")"
      ],
      "execution_count": null,
      "outputs": []
    },
    {
      "cell_type": "code",
      "metadata": {
        "id": "rsO0ZQFDJFq_",
        "colab": {
          "base_uri": "https://localhost:8080/"
        },
        "outputId": "e31feb27-247c-4d6a-ecd0-508cb4db7ef0"
      },
      "source": [
        "history = model.fit(\n",
        "                    x_train_float, \n",
        "                    y_train_oh,\n",
        "                    batch_size=64,  # 64 объекта для подсчета градиента на каждом шаге\n",
        "                    epochs=10,  # 10 проходов по датасету\n",
        "                    validation_data=(x_val_float, y_val_oh)\n",
        "                    )"
      ],
      "execution_count": null,
      "outputs": [
        {
          "output_type": "stream",
          "text": [
            "Train on 60000 samples, validate on 10000 samples\n",
            "Epoch 1/10\n",
            "60000/60000 [==============================] - 5s 84us/sample - loss: 0.3076 - accuracy: 0.9072 - val_loss: 0.1723 - val_accuracy: 0.9477\n",
            "Epoch 2/10\n",
            "60000/60000 [==============================] - 3s 55us/sample - loss: 0.1394 - accuracy: 0.9575 - val_loss: 0.1207 - val_accuracy: 0.9627\n",
            "Epoch 3/10\n",
            "60000/60000 [==============================] - 3s 57us/sample - loss: 0.1029 - accuracy: 0.9679 - val_loss: 0.1212 - val_accuracy: 0.9620\n",
            "Epoch 4/10\n",
            "60000/60000 [==============================] - 3s 57us/sample - loss: 0.0858 - accuracy: 0.9725 - val_loss: 0.1131 - val_accuracy: 0.9627\n",
            "Epoch 5/10\n",
            "60000/60000 [==============================] - 3s 57us/sample - loss: 0.0695 - accuracy: 0.9770 - val_loss: 0.0867 - val_accuracy: 0.9725\n",
            "Epoch 6/10\n",
            "60000/60000 [==============================] - 3s 56us/sample - loss: 0.0609 - accuracy: 0.9801 - val_loss: 0.0916 - val_accuracy: 0.9721\n",
            "Epoch 7/10\n",
            "60000/60000 [==============================] - 3s 58us/sample - loss: 0.0538 - accuracy: 0.9824 - val_loss: 0.0899 - val_accuracy: 0.9739\n",
            "Epoch 8/10\n",
            "60000/60000 [==============================] - 4s 58us/sample - loss: 0.0488 - accuracy: 0.9838 - val_loss: 0.0685 - val_accuracy: 0.9781\n",
            "Epoch 9/10\n",
            "60000/60000 [==============================] - 3s 57us/sample - loss: 0.0454 - accuracy: 0.9847 - val_loss: 0.1228 - val_accuracy: 0.9626\n",
            "Epoch 10/10\n",
            "60000/60000 [==============================] - 3s 55us/sample - loss: 0.0374 - accuracy: 0.9872 - val_loss: 0.0833 - val_accuracy: 0.9767\n"
          ],
          "name": "stdout"
        }
      ]
    },
    {
      "cell_type": "code",
      "metadata": {
        "id": "zM4NTDXyQn0A",
        "colab": {
          "base_uri": "https://localhost:8080/",
          "height": 350
        },
        "outputId": "6ddc6207-e636-4249-cff4-bba06173aedb"
      },
      "source": [
        "# Plot training & validation accuracy values\n",
        "plt.style.use(['dark_background'])\n",
        "fig, ax = plt.subplots(figsize=(10, 5))\n",
        "plt.plot(history.history['accuracy'])\n",
        "plt.plot(history.history['val_accuracy'])\n",
        "plt.title('Model accuracy')\n",
        "plt.ylabel('Accuracy')\n",
        "plt.xlabel('Epoch')\n",
        "plt.legend(['Train', 'Test'], loc='upper left')\n",
        "plt.show()"
      ],
      "execution_count": null,
      "outputs": [
        {
          "output_type": "display_data",
          "data": {
            "image/png": "[encoded data removed]",
            "text/plain": [
              "<Figure size 720x360 with 1 Axes>"
            ]
          },
          "metadata": {
            "tags": []
          }
        }
      ]
    },
    {
      "cell_type": "code",
      "metadata": {
        "id": "uUwz9JG0R-9w",
        "colab": {
          "base_uri": "https://localhost:8080/",
          "height": 350
        },
        "outputId": "a9cd63a7-2d3e-4412-f647-d660274397e0"
      },
      "source": [
        "# Plot training & validation loss values\n",
        "plt.style.use(['dark_background'])\n",
        "fig, ax = plt.subplots(figsize=(10, 5))\n",
        "plt.plot(history.history['loss'])\n",
        "plt.plot(history.history['val_loss'])\n",
        "plt.title('Model loss')\n",
        "plt.ylabel('Loss')\n",
        "plt.xlabel('Epoch')\n",
        "plt.legend(['Train', 'Test'], loc='upper left')\n",
        "plt.show()"
      ],
      "execution_count": null,
      "outputs": [
        {
          "output_type": "display_data",
          "data": {
            "image/png": "[encoded data removed]",
            "text/plain": [
              "<Figure size 720x360 with 1 Axes>"
            ]
          },
          "metadata": {
            "tags": []
          }
        }
      ]
    },
    {
      "cell_type": "code",
      "metadata": {
        "id": "gpkK_GHOSF2j",
        "colab": {
          "base_uri": "https://localhost:8080/"
        },
        "outputId": "c3527916-5961-4e1c-976e-8e5fe438d659"
      },
      "source": [
        "model.predict(x_val_float)"
      ],
      "execution_count": null,
      "outputs": [
        {
          "output_type": "execute_result",
          "data": {
            "text/plain": [
              "array([[5.16309395e-09, 2.51561949e-09, 2.63154135e-07, ...,\n",
              "        9.99706447e-01, 5.20584571e-08, 6.56640486e-06],\n",
              "       [4.13120718e-11, 1.50304317e-07, 9.99999881e-01, ...,\n",
              "        6.66432798e-10, 1.42650780e-09, 2.07623122e-19],\n",
              "       [7.00947023e-10, 9.99955773e-01, 3.47515368e-07, ...,\n",
              "        2.99322255e-05, 4.38823662e-07, 9.54688595e-09],\n",
              "       ...,\n",
              "       [3.54990549e-17, 7.72185163e-11, 3.41644336e-14, ...,\n",
              "        3.64319028e-08, 1.10934095e-10, 2.76302643e-08],\n",
              "       [4.86421525e-09, 5.38423126e-11, 5.98918137e-10, ...,\n",
              "        2.38843079e-08, 2.95889436e-06, 4.44935339e-11],\n",
              "       [4.53522700e-15, 1.74615463e-13, 4.53151579e-12, ...,\n",
              "        3.85364836e-18, 1.50564687e-13, 3.83416884e-14]], dtype=float32)"
            ]
          },
          "metadata": {
            "tags": []
          },
          "execution_count": 22
        }
      ]
    },
    {
      "cell_type": "code",
      "metadata": {
        "id": "_zELjA8bTG9m",
        "colab": {
          "base_uri": "https://localhost:8080/"
        },
        "outputId": "76344ba0-e1b9-4e0c-a017-d8448023db8c"
      },
      "source": [
        "model.predict_classes(x_val_float)"
      ],
      "execution_count": null,
      "outputs": [
        {
          "output_type": "execute_result",
          "data": {
            "text/plain": [
              "array([7, 2, 1, ..., 4, 5, 6])"
            ]
          },
          "metadata": {
            "tags": []
          },
          "execution_count": 23
        }
      ]
    },
    {
      "cell_type": "code",
      "metadata": {
        "id": "WV5Z-2qlJxa2",
        "colab": {
          "base_uri": "https://localhost:8080/"
        },
        "outputId": "d435eb53-62ff-483a-a129-0c7009b09dea"
      },
      "source": [
        "# аналогично\n",
        "np.argmax(model.predict(x_val_float), axis = 1)"
      ],
      "execution_count": null,
      "outputs": [
        {
          "output_type": "execute_result",
          "data": {
            "text/plain": [
              "array([7, 2, 1, ..., 4, 5, 6])"
            ]
          },
          "metadata": {
            "tags": []
          },
          "execution_count": 24
        }
      ]
    },
    {
      "cell_type": "code",
      "metadata": {
        "id": "j5MI71XhJPCk",
        "colab": {
          "base_uri": "https://localhost:8080/"
        },
        "outputId": "3a93b45f-1678-437d-aecc-b8227b629b2b"
      },
      "source": [
        "predicts = model.predict_classes(x_val_float)\n",
        "print('Test Accuracy: ', accuracy_score(y_val, predicts))"
      ],
      "execution_count": null,
      "outputs": [
        {
          "output_type": "stream",
          "text": [
            "Test Accuracy:  0.9767\n"
          ],
          "name": "stdout"
        }
      ]
    },
    {
      "cell_type": "code",
      "metadata": {
        "id": "eo1J3PATJCm2"
      },
      "source": [
        ""
      ],
      "execution_count": null,
      "outputs": []
    },
    {
      "cell_type": "code",
      "metadata": {
        "id": "e3p6CJJXW9f4"
      },
      "source": [
        ""
      ],
      "execution_count": null,
      "outputs": []
    }
  ]
}